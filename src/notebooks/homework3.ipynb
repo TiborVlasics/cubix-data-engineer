{
 "cells": [
  {
   "cell_type": "code",
   "execution_count": null,
   "id": "812a5a7b",
   "metadata": {
    "vscode": {
     "languageId": "sql"
    }
   },
   "outputs": [],
   "source": [
    "-- Task 1: Which 10 companies make the most money?\n",
    "-- Use two columns: Company name and the sum of the fare. Order by descending order.\n",
    "-- Make sure that the sum of the fares (total_fare) is not in scientific notation.\n",
    "select \n",
    "    cast(sum(tt.fare) as decimal(10, 2)) as total_fare, \n",
    "    c.company\n",
    "from \n",
    "    \"chicago_taxi_db\".\"taxi_trips\" tt\n",
    "inner join \n",
    "    \"chicago_taxi_db\".\"company\" c\n",
    "    on c.company_id = tt.company_id\n",
    "group by\n",
    "    c.company\n",
    "order by \n",
    "    total_fare desc"
   ]
  },
  {
   "cell_type": "code",
   "execution_count": null,
   "id": "cf1cde41",
   "metadata": {
    "vscode": {
     "languageId": "sql"
    }
   },
   "outputs": [],
   "source": [
    "-- Task 2: Show the 10 pickup community areas with the most rides. \n",
    "-- Use two columns: community area name and count of rides per area, in descending order for the rides.\n",
    "select \n",
    "    ca.community_name, \n",
    "    count(ca.community_name) as pickup_count\n",
    "from \n",
    "    \"chicago_taxi_db\".\"taxi_trips\" tt\n",
    "inner join \n",
    "    \"chicago_taxi_db\".\"community_areas\" ca\n",
    "    on ca.area_codes = tt.pickup_community_area_id\n",
    "group by\n",
    "    ca.community_name\n",
    "order by \n",
    "    pickup_count desc"
   ]
  },
  {
   "cell_type": "code",
   "execution_count": null,
   "id": "3c711a05",
   "metadata": {
    "vscode": {
     "languageId": "sql"
    }
   },
   "outputs": [],
   "source": [
    "-- Task 3: Get the count of taxi rides per day of week. In other words, we'd like to see which day has the most rides.\n",
    "-- Use the names of the days instead of numbers (Monday = 1, Tuesday = 2, etc.).\n",
    "select \n",
    "    date_format(datetime_for_weather, '%W'),\n",
    "    count(date_format(datetime_for_weather, '%W')) as rides_per_day\n",
    "from \n",
    "    \"chicago_taxi_db\".\"taxi_trips\"\n",
    "group by\n",
    "    date_format(datetime_for_weather, '%W')\n",
    "order by\n",
    "    rides_per_day desc"
   ]
  }
 ],
 "metadata": {
  "kernelspec": {
   "display_name": "venv",
   "language": "python",
   "name": "python3"
  },
  "language_info": {
   "name": "python",
   "version": "3.12.7"
  }
 },
 "nbformat": 4,
 "nbformat_minor": 5
}
