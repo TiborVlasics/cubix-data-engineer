{
 "cells": [
  {
   "cell_type": "code",
   "execution_count": 5,
   "metadata": {},
   "outputs": [],
   "source": [
    "import requests\n",
    "\n",
    "from datetime import datetime\n",
    "from dateutil.relativedelta import relativedelta"
   ]
  },
  {
   "cell_type": "code",
   "execution_count": null,
   "metadata": {},
   "outputs": [
    {
     "data": {
      "text/plain": [
       "'2025-01-06'"
      ]
     },
     "execution_count": 6,
     "metadata": {},
     "output_type": "execute_result"
    }
   ],
   "source": [
    "current_datetime = datetime.now() - relativedelta(months=2)\n",
    "formatted_date = current_datetime.strftime(\"%Y-%m-%d\")\n",
    "formatted_date"
   ]
  },
  {
   "cell_type": "code",
   "execution_count": null,
   "metadata": {},
   "outputs": [
    {
     "data": {
      "text/plain": [
       "14017"
      ]
     },
     "execution_count": 18,
     "metadata": {},
     "output_type": "execute_result"
    }
   ],
   "source": [
    "url = f\"https://data.cityofchicago.org/resource/ajtu-isnz.json?$where=trip_start_timestamp >= '{formatted_date}T00:00:00' AND trip_start_timestamp <= '{formatted_date}T23:59:59'&$limit=30000\"\n",
    "\n",
    "response = requests.get(url)\n",
    "data = response.json()\n",
    "\n",
    "len(data)"
   ]
  },
  {
   "cell_type": "code",
   "execution_count": 17,
   "metadata": {},
   "outputs": [
    {
     "data": {
      "text/plain": [
       "{'trip_id': 'c73e9745f75e63cc396e27fb610b727123d6a6f4',\n",
       " 'taxi_id': 'ddc0a237498a82a0803761188d0ea048623b5d91f29ad2b1ba514d1b4eec6f5bdaa2ed6e1d1df38960d9bce8935fc9cae8826d55b73261dc4f60d01af8a02617',\n",
       " 'trip_start_timestamp': '2025-01-06T10:15:00.000',\n",
       " 'trip_end_timestamp': '2025-01-06T10:30:00.000',\n",
       " 'trip_seconds': '1027',\n",
       " 'trip_miles': '3.9',\n",
       " 'pickup_community_area': '35',\n",
       " 'dropoff_community_area': '42',\n",
       " 'fare': '13.75',\n",
       " 'tips': '0',\n",
       " 'tolls': '0',\n",
       " 'extras': '0',\n",
       " 'trip_total': '13.75',\n",
       " 'payment_type': 'Cash',\n",
       " 'company': 'Flash Cab',\n",
       " 'pickup_centroid_latitude': '41.835117986',\n",
       " 'pickup_centroid_longitude': '-87.618677767',\n",
       " 'pickup_centroid_location': {'type': 'Point',\n",
       "  'coordinates': [-87.6186777673, 41.8351179863]},\n",
       " 'dropoff_centroid_latitude': '41.77887686',\n",
       " 'dropoff_centroid_longitude': '-87.594925439',\n",
       " 'dropoff_centroid_location': {'type': 'Point',\n",
       "  'coordinates': [-87.5949254391, 41.7788768603]}}"
      ]
     },
     "execution_count": 17,
     "metadata": {},
     "output_type": "execute_result"
    }
   ],
   "source": [
    "data[10000]"
   ]
  }
 ],
 "metadata": {
  "kernelspec": {
   "display_name": "venv",
   "language": "python",
   "name": "python3"
  },
  "language_info": {
   "codemirror_mode": {
    "name": "ipython",
    "version": 3
   },
   "file_extension": ".py",
   "mimetype": "text/x-python",
   "name": "python",
   "nbconvert_exporter": "python",
   "pygments_lexer": "ipython3",
   "version": "3.12.4"
  }
 },
 "nbformat": 4,
 "nbformat_minor": 2
}
